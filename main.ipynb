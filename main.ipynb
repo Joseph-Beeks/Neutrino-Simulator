{
 "cells": [
  {
   "cell_type": "code",
   "execution_count": 9,
   "id": "2edcec9a-cb56-4154-af28-0f0c9645b86c",
   "metadata": {},
   "outputs": [],
   "source": [
    "import neutrino_simulator as ns"
   ]
  },
  {
   "cell_type": "code",
   "execution_count": 10,
   "id": "da04127c-4d85-48dd-a9cf-47cd7f9e3059",
   "metadata": {},
   "outputs": [],
   "source": [
    "# Neutrino Paramaters: from warwick and nufit\n",
    "# ------------------------- #\n",
    "E = 1                       # E_ν term units GeV\n",
    "L = 1000                    # L distance travelled units km        \n",
    "theta = 0.55                # mixing angle 12 from nufit September 2024\n",
    "sinSqrCoefficient = 0.7943  # sin²(2θ)\n",
    "deltaM12 = 3e-3             # Δm² term units eV^2\n",
    "# ------------------------- #"
   ]
  },
  {
   "cell_type": "code",
   "execution_count": 11,
   "id": "0491a6e5-0124-4501-a1d5-8fcd8819a90d",
   "metadata": {},
   "outputs": [
    {
     "data": {
      "text/plain": [
       "True"
      ]
     },
     "execution_count": 11,
     "metadata": {},
     "output_type": "execute_result"
    }
   ],
   "source": [
    "### KEY PROGRAM PARAMATERS ###\n",
    "shotValues = [1000]\n",
    "numTrials = 10\n",
    "realQPU == False"
   ]
  },
  {
   "cell_type": "code",
   "execution_count": 12,
   "id": "a2ed9ca0-1a27-4a9f-82d7-7fb76d95f88e",
   "metadata": {},
   "outputs": [
    {
     "name": "stdout",
     "output_type": "stream",
     "text": [
      "Data saved to results.csv with columns: ['Time Points', 'Analytical Electron', 'Simulation Electron', 'Electron Lower Error', 'Electron Upper Error', 'Analytical Muon', 'Simulation Muon', 'Muon Lower Error', 'Muon Upper Error']\n"
     ]
    }
   ],
   "source": [
    "# Pass all required variables when calling the function\n",
    "analytical_data = ns.analytical_probabilities(L, 20, sinSqrCoefficient, deltaM12, E)\n",
    "\n",
    "# Run quantum simulation\n",
    "simulation_data = ns.quantum_simulation(1000, 5, L, E, theta, deltaM12, realQPU)\n",
    "\n",
    "# Save results\n",
    "ns.save_data(\"results.csv\", analytical_data, [simulation_data])"
   ]
  },
  {
   "cell_type": "code",
   "execution_count": null,
   "id": "579267b8-93a5-4692-be4b-f8ffc06a5845",
   "metadata": {},
   "outputs": [],
   "source": []
  }
 ],
 "metadata": {
  "kernelspec": {
   "display_name": "Python 3 [Qiskit 1.2.0]",
   "language": "python",
   "name": "python3_qiskit_9vrlwn"
  },
  "language_info": {
   "codemirror_mode": {
    "name": "ipython",
    "version": 3
   },
   "file_extension": ".py",
   "mimetype": "text/x-python",
   "name": "python",
   "nbconvert_exporter": "python",
   "pygments_lexer": "ipython3",
   "version": "3.11.9"
  }
 },
 "nbformat": 4,
 "nbformat_minor": 5
}
